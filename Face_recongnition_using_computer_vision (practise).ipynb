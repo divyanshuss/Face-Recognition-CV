{
 "cells": [
  {
   "cell_type": "code",
   "execution_count": 10,
   "metadata": {},
   "outputs": [],
   "source": [
    "import cv2\n",
    "cap = cv2.VideoCapture(0)\n"
   ]
  },
  {
   "cell_type": "code",
   "execution_count": 11,
   "metadata": {},
   "outputs": [],
   "source": [
    "ret ,photo = cap.read()"
   ]
  },
  {
   "cell_type": "code",
   "execution_count": 12,
   "metadata": {},
   "outputs": [
    {
     "data": {
      "text/plain": [
       "True"
      ]
     },
     "execution_count": 12,
     "metadata": {},
     "output_type": "execute_result"
    }
   ],
   "source": [
    "cv2.imwrite(\"pic1.jpg\" , photo)"
   ]
  },
  {
   "cell_type": "code",
   "execution_count": null,
   "metadata": {},
   "outputs": [],
   "source": [
    "import cv2\n",
    "cap = cv2.VideoCapture(0)\n",
    "ret , photo = cap.read()\n",
    "cv2.imwrite(\"pic1.jpg\", photo)\n",
    "#ret , photo = cap.read()\n",
    "model = cv2.CascadeClassifier('haarcascade_frontalface_default.xml')\n",
    "faces = model.detectMultiScale(photo)\n",
    "i=1\n",
    "while True:\n",
    "    ret , photo = cap.read()\n",
    "    faces = model.detectMultiScale(photo)\n",
    "    if len(faces) == 0:\n",
    "        pass\n",
    "    else:\n",
    "        #i = i+1\n",
    "        x1 = faces[0][0]\n",
    "        y1 = faces[0][1]\n",
    "        x2 = x1 + faces[0][2]\n",
    "        y2 = y1 + faces[0][3]\n",
    "        #cv2.imwrite('my{}.jpg'.format(i),photo[x1:x2,y1:y2])\n",
    "        \n",
    "    \n",
    "        rphoto = cv2.rectangle(photo , (x1,y1),(x2,y2),[0,255,0],5)\n",
    "\n",
    "        cv2.imshow(\"hi\",rphoto)\n",
    "        if cv2.waitKey(10) == 13:\n",
    "            break\n",
    "cv2.destroyAllWindows()\n",
    "cap.release()"
   ]
  },
  {
   "cell_type": "code",
   "execution_count": null,
   "metadata": {},
   "outputs": [],
   "source": [
    "\n",
    "cap.release()\n"
   ]
  },
  {
   "cell_type": "code",
   "execution_count": null,
   "metadata": {},
   "outputs": [],
   "source": []
  }
 ],
 "metadata": {
  "kernelspec": {
   "display_name": "Python 3",
   "language": "python",
   "name": "python3"
  },
  "language_info": {
   "codemirror_mode": {
    "name": "ipython",
    "version": 3
   },
   "file_extension": ".py",
   "mimetype": "text/x-python",
   "name": "python",
   "nbconvert_exporter": "python",
   "pygments_lexer": "ipython3",
   "version": "3.8.3"
  }
 },
 "nbformat": 4,
 "nbformat_minor": 4
}
